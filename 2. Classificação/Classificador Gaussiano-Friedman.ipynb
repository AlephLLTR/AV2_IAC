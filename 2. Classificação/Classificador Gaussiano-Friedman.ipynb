{
 "cells": [
  {
   "cell_type": "code",
   "execution_count": null,
   "metadata": {},
   "outputs": [
    {
     "name": "stdout",
     "output_type": "stream",
     "text": [
      "[[0.000e+00 0.000e+00 9.050e+02 ... 0.000e+00 0.000e+00 0.000e+00]\n",
      " [0.000e+00 0.000e+00 1.430e+03 ... 0.000e+00 3.941e+03 3.938e+03]\n",
      " [1.000e+00 1.000e+00 4.000e+00 ... 1.000e+00 2.000e+00 2.000e+00]]\n"
     ]
    }
   ],
   "source": [
    "#Classificador Gaussiano Friedman\n",
    "import numpy as np\n",
    "import matplotlib.pyplot as plt\n",
    "\n",
    "size = 0.8\n",
    "reps = 500\n",
    "lambd = 0\n",
    "\n",
    "data = np.loadtxt('../0b. DADOS/EMGsDataset.csv', delimiter=',')\n",
    "C1, C2, C3, C4, C5 = 1, 2, 3, 4, 5\n",
    "print(data)\n",
    "results = []"
   ]
  },
  {
   "cell_type": "code",
   "execution_count": 32,
   "metadata": {},
   "outputs": [],
   "source": [
    "X = np.concatenate((\n",
    "  data[:2, data[2, :] == C1],\n",
    "  data[:2, data[2, :] == C2],\n",
    "  data[:2, data[2, :] == C3],\n",
    "  data[:2, data[2, :] == C4],\n",
    "  data[:2, data[2, :] == C5]\n",
    "), axis=1)\n",
    "\n",
    "p, N = X.shape\n",
    "\n",
    "Y = np.concatenate((\n",
    "  np.tile(C1 - 1, (10000, 1)),\n",
    "  np.tile(C2 - 1, (10000, 1)),\n",
    "  np.tile(C3 - 1, (10000, 1)),\n",
    "  np.tile(C4 - 1, (10000, 1)),\n",
    "  np.tile(C5 - 1, (10000, 1))\n",
    ")).reshape(1, N)"
   ]
  },
  {
   "cell_type": "code",
   "execution_count": 33,
   "metadata": {},
   "outputs": [
    {
     "name": "stderr",
     "output_type": "stream",
     "text": [
      "/tmp/ipykernel_54592/453832266.py:49: RuntimeWarning: divide by zero encountered in log\n",
      "  t1 = -0.5 * np.log(det)\n"
     ]
    }
   ],
   "source": [
    "results = []\n",
    "\n",
    "for _ in range(reps):\n",
    "  indices = np.arange(N)\n",
    "  np.random.shuffle(indices)\n",
    "  \n",
    "  ind_treino = indices[:int(N*size)]\n",
    "  ind_teste = indices[int(N*size):]\n",
    "  \n",
    "  X_treino, X_teste = X[:, ind_treino], X[:, ind_teste]\n",
    "  Y_treino, Y_teste = Y[:, ind_treino], Y[:, ind_teste]\n",
    "  \n",
    "  X_group = []\n",
    "  Cov_group = []\n",
    "  \n",
    "  for i in range(5):\n",
    "    Xni = X_treino[:, Y_treino[0, :] == i]\n",
    "    X_group.append(Xni)      \n",
    "    Cov_group.append(np.cov(Xni))\n",
    "  \n",
    "  Means_group = []\n",
    "  for i in X_group:\n",
    "    Means_group.append(np.mean(i, axis=1).reshape(p, 1))\n",
    "    \n",
    "  Agr_matrix = np.zeros((p,p))\n",
    "  for i in range(5):\n",
    "    ni = X_group[i].shape[1]\n",
    "    Agr_matrix += ni/N * Cov_group[i]\n",
    "    \n",
    "  Friedman_group = []\n",
    "  for i in range(5):\n",
    "    ni = X_group[i].shape[1]\n",
    "    dividendo = (1 - lambd)*(ni * Cov_group[i])+(lambd * N * Agr_matrix)\n",
    "    divisor = (1 - lambd) * ni + lambd * N\n",
    "    Friedman_group.append(dividendo/divisor)\n",
    "\n",
    "  inv_group = []    \n",
    "  dets_group=[]\n",
    "  for i in range(5):\n",
    "    if lambd == 0:\n",
    "      inv_group.append(np.linalg.pinv(Friedman_group[i]))\n",
    "    else:\n",
    "      inv_group.append(np.linalg.inv(Friedman_group[i]))\n",
    "\n",
    "    dets_group.append(np.linalg.det(Friedman_group[i]))\n",
    "    \n",
    "  def discriminante(xn, mi, inv, det, lamda):\n",
    "    if lamda != 1:\n",
    "      t1 = -0.5 * np.log(det)\n",
    "      t2 = -0.5 * (xn - mi).T @ inv @ (xn - mi)\n",
    "      res = t1 + t2\n",
    "    else:\n",
    "      t1 = (xn - mi).T\n",
    "      t2 = inv * (xn - mi)\n",
    "      res = t1 * t2\n",
    "    return res\n",
    "\n",
    "  Y_pred = []\n",
    "    \n",
    "  for i in range(X_teste.shape[1]):\n",
    "    discriminantes_matrix = []\n",
    "    X_novo = X_teste[:, i].reshape(2, 1)\n",
    "    for n in range(5):\n",
    "      discriminantes_matrix.append(discriminante(X_novo, Means_group[n], inv_group[n], dets_group[n], lambd))\n",
    "    Y_pred.append(np.argmax(discriminantes_matrix))\n",
    "    \n",
    "    \n",
    "  Y_pred = np.array(Y_pred)\n",
    "  Y_teste = Y_teste[0]\n",
    "  results.append(np.mean(Y_pred  == Y_teste))"
   ]
  },
  {
   "cell_type": "code",
   "execution_count": 34,
   "metadata": {},
   "outputs": [
    {
     "name": "stdout",
     "output_type": "stream",
     "text": [
      "Média da Acurácia:  0.20423999999999998\n",
      "Desvio Padrão:  0.004209798094920936\n",
      "Maior:  0.2098\n",
      "Menor:  0.2\n"
     ]
    }
   ],
   "source": [
    "print(\"Média da Acurácia: \", np.mean(results))\n",
    "print(\"Desvio Padrão: \", np.std(results))\n",
    "print(\"Maior: \", np.max(results))\n",
    "print(\"Menor: \", np.min(results))"
   ]
  }
 ],
 "metadata": {
  "kernelspec": {
   "display_name": ".venv",
   "language": "python",
   "name": "python3"
  },
  "language_info": {
   "codemirror_mode": {
    "name": "ipython",
    "version": 3
   },
   "file_extension": ".py",
   "mimetype": "text/x-python",
   "name": "python",
   "nbconvert_exporter": "python",
   "pygments_lexer": "ipython3",
   "version": "3.12.3"
  }
 },
 "nbformat": 4,
 "nbformat_minor": 2
}
