{
 "cells": [
  {
   "cell_type": "code",
   "execution_count": null,
   "metadata": {},
   "outputs": [
    {
     "name": "stdout",
     "output_type": "stream",
     "text": [
      "[[0.000e+00 0.000e+00 9.050e+02 ... 0.000e+00 0.000e+00 0.000e+00]\n",
      " [0.000e+00 0.000e+00 1.430e+03 ... 0.000e+00 3.941e+03 3.938e+03]\n",
      " [1.000e+00 1.000e+00 4.000e+00 ... 1.000e+00 2.000e+00 2.000e+00]]\n"
     ]
    }
   ],
   "source": [
    "#Classificador MQO\n",
    "import numpy as np\n",
    "import matplotlib.pyplot as plt\n",
    "import pandas as pd\n",
    "\n",
    "size = 0.8\n",
    "reps = 1\n",
    "λ = 0.00000000000000000000000000001\n",
    "\n",
    "data = np.loadtxt('../0b. DADOS/EMGsDataset.csv', delimiter=',')\n",
    "\n",
    "C1, C2, C3, C4, C5 = 1, 2, 3, 4, 5\n",
    "results = []\n",
    "print(data)"
   ]
  },
  {
   "cell_type": "code",
   "execution_count": 4,
   "metadata": {},
   "outputs": [],
   "source": [
    "data = data.T\n",
    "X = np.concatenate((\n",
    "  data[data[:, 2] == C1, :2],\n",
    "  data[data[:, 2] == C2, :2],\n",
    "  data[data[:, 2] == C3, :2],\n",
    "  data[data[:, 2] == C4, :2],\n",
    "  data[data[:, 2] == C5, :2]\n",
    "))\n",
    "\n",
    "N, p = X.shape\n",
    "\n",
    "X = np.concatenate((\n",
    "  np.ones((N, 1)),\n",
    "  X \n",
    "  ), axis = 1)\n",
    "\n",
    "Y = np.concatenate((\n",
    "  np.tile(np.array([[ 1,-1,-1,-1,-1]]), (10000, 1)),\n",
    "  np.tile(np.array([[-1, 1,-1,-1,-1]]), (10000, 1)),\n",
    "  np.tile(np.array([[-1,-1, 1,-1,-1]]), (10000, 1)),\n",
    "  np.tile(np.array([[-1,-1,-1, 1,-1]]), (10000, 1)),\n",
    "  np.tile(np.array([[-1,-1,-1,-1, 1]]), (10000, 1))\n",
    "))"
   ]
  },
  {
   "cell_type": "code",
   "execution_count": 5,
   "metadata": {},
   "outputs": [
    {
     "name": "stdout",
     "output_type": "stream",
     "text": [
      "Média da Acurácia:  0.726\n",
      "Desvio Padrão:  0.0\n",
      "Maior:  0.726\n",
      "Menor:  0.726\n"
     ]
    }
   ],
   "source": [
    "for _ in range(reps):\n",
    "  indices = np.arange(N)\n",
    "  np.random.shuffle(indices)\n",
    "  \n",
    "  ind_treino = indices[:int(N*size)]\n",
    "  ind_teste = indices[int(N*size):]\n",
    "  \n",
    "  X_treino, X_teste = X[ind_treino], X[ind_teste]\n",
    "  Y_treino, Y_teste = Y[ind_treino], Y[ind_teste]\n",
    "  \n",
    "  W = np.linalg.inv(X_treino.T@X_treino)@X_treino.T@Y_treino\n",
    "  \n",
    "  predict = X_teste@W\n",
    "    \n",
    "  res = []\n",
    "    \n",
    "  for i in range(predict.shape[0]):\n",
    "    res.append(np.argmax(predict[i]) == np.argmax(Y_teste[i]))\n",
    "  results.append(np.mean(res))\n",
    "  \n",
    "  \n",
    "print(\"Média da Acurácia: \", np.mean(results))\n",
    "print(\"Desvio Padrão: \", np.std(results))\n",
    "print(\"Maior: \", np.max(results))\n",
    "print(\"Menor: \", np.min(results))"
   ]
  },
  {
   "cell_type": "code",
   "execution_count": 6,
   "metadata": {},
   "outputs": [],
   "source": [
    "# #Gráfico\n",
    "# plt.scatter(data[data[:, 2] == C1, 0], data[data[:, 2] == C1, 1], color = 'red')\n",
    "# plt.scatter(data[data[:, 2] == C2, 0], data[data[:, 2] == C2, 1], color = 'blue')\n",
    "# plt.scatter(data[data[:, 2] == C3, 0], data[data[:, 2] == C3, 1], color = 'green')\n",
    "# plt.scatter(data[data[:, 2] == C4, 0], data[data[:, 2] == C4, 1], color = 'yellow')\n",
    "# plt.scatter(data[data[:, 2] == C5, 0], data[data[:, 2] == C5, 1], color = 'purple')"
   ]
  }
 ],
 "metadata": {
  "kernelspec": {
   "display_name": "venv",
   "language": "python",
   "name": "python3"
  },
  "language_info": {
   "codemirror_mode": {
    "name": "ipython",
    "version": 3
   },
   "file_extension": ".py",
   "mimetype": "text/x-python",
   "name": "python",
   "nbconvert_exporter": "python",
   "pygments_lexer": "ipython3",
   "version": "3.12.3"
  }
 },
 "nbformat": 4,
 "nbformat_minor": 2
}
